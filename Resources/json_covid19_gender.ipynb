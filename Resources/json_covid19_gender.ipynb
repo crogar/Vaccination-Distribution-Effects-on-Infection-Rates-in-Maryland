{
 "cells": [
  {
   "cell_type": "markdown",
   "metadata": {},
   "source": [
    "# JSON_covid19_gender - API Call"
   ]
  },
  {
   "cell_type": "code",
   "execution_count": 1,
   "metadata": {},
   "outputs": [],
   "source": [
    "import pandas as pd\n",
    "pd.options.mode.chained_assignment = None  # default='warn'\n",
    "import numpy as np\n",
    "from sqlalchemy import create_engine\n",
    "from sqlalchemy.sql import text\n",
    "from config import password, username"
   ]
  },
  {
   "cell_type": "code",
   "execution_count": 2,
   "metadata": {},
   "outputs": [
    {
     "name": "stdout",
     "output_type": "stream",
     "text": [
      "['cases', 'vaccinations', 'gender']\n"
     ]
    }
   ],
   "source": [
    "connection_string = f\"{username}:{password}@batyr.db.elephantsql.com/udxenurz\"\n",
    "engine = create_engine(f'postgres://{connection_string}')\n",
    "print(engine.table_names())"
   ]
  },
  {
   "cell_type": "code",
   "execution_count": 3,
   "metadata": {},
   "outputs": [],
   "source": [
    "df =pd.read_sql_query(\"SELECT * FROM gender\", con=engine)"
   ]
  },
  {
   "cell_type": "code",
   "execution_count": 4,
   "metadata": {
    "scrolled": false
   },
   "outputs": [
    {
     "data": {
      "text/html": [
       "<div>\n",
       "<style scoped>\n",
       "    .dataframe tbody tr th:only-of-type {\n",
       "        vertical-align: middle;\n",
       "    }\n",
       "\n",
       "    .dataframe tbody tr th {\n",
       "        vertical-align: top;\n",
       "    }\n",
       "\n",
       "    .dataframe thead th {\n",
       "        text-align: right;\n",
       "    }\n",
       "</style>\n",
       "<table border=\"1\" class=\"dataframe\">\n",
       "  <thead>\n",
       "    <tr style=\"text-align: right;\">\n",
       "      <th></th>\n",
       "      <th>ID</th>\n",
       "      <th>DATE</th>\n",
       "      <th>Gender</th>\n",
       "      <th>FirstDoseDaily</th>\n",
       "      <th>FirstDoseCumulative</th>\n",
       "      <th>SecondDoseDaily</th>\n",
       "      <th>SecondDoseCumulative</th>\n",
       "      <th>SingleDoseDaily</th>\n",
       "      <th>SingleDoseCumulative</th>\n",
       "    </tr>\n",
       "  </thead>\n",
       "  <tbody>\n",
       "    <tr>\n",
       "      <th>0</th>\n",
       "      <td>1</td>\n",
       "      <td>2021-04-13</td>\n",
       "      <td>Other</td>\n",
       "      <td>84295</td>\n",
       "      <td>84295</td>\n",
       "      <td>54201</td>\n",
       "      <td>54201</td>\n",
       "      <td>2952</td>\n",
       "      <td>2952</td>\n",
       "    </tr>\n",
       "    <tr>\n",
       "      <th>1</th>\n",
       "      <td>2</td>\n",
       "      <td>2021-04-14</td>\n",
       "      <td>Other</td>\n",
       "      <td>557</td>\n",
       "      <td>84852</td>\n",
       "      <td>11</td>\n",
       "      <td>54212</td>\n",
       "      <td>1</td>\n",
       "      <td>2953</td>\n",
       "    </tr>\n",
       "    <tr>\n",
       "      <th>2</th>\n",
       "      <td>3</td>\n",
       "      <td>2021-04-15</td>\n",
       "      <td>Other</td>\n",
       "      <td>623</td>\n",
       "      <td>85475</td>\n",
       "      <td>823</td>\n",
       "      <td>55035</td>\n",
       "      <td>19</td>\n",
       "      <td>2972</td>\n",
       "    </tr>\n",
       "    <tr>\n",
       "      <th>3</th>\n",
       "      <td>4</td>\n",
       "      <td>2021-04-16</td>\n",
       "      <td>Other</td>\n",
       "      <td>782</td>\n",
       "      <td>86257</td>\n",
       "      <td>1016</td>\n",
       "      <td>56051</td>\n",
       "      <td>8</td>\n",
       "      <td>2980</td>\n",
       "    </tr>\n",
       "    <tr>\n",
       "      <th>4</th>\n",
       "      <td>5</td>\n",
       "      <td>2021-04-17</td>\n",
       "      <td>Other</td>\n",
       "      <td>1136</td>\n",
       "      <td>87393</td>\n",
       "      <td>1177</td>\n",
       "      <td>57228</td>\n",
       "      <td>6</td>\n",
       "      <td>2986</td>\n",
       "    </tr>\n",
       "    <tr>\n",
       "      <th>...</th>\n",
       "      <td>...</td>\n",
       "      <td>...</td>\n",
       "      <td>...</td>\n",
       "      <td>...</td>\n",
       "      <td>...</td>\n",
       "      <td>...</td>\n",
       "      <td>...</td>\n",
       "      <td>...</td>\n",
       "      <td>...</td>\n",
       "    </tr>\n",
       "    <tr>\n",
       "      <th>515</th>\n",
       "      <td>516</td>\n",
       "      <td>2021-05-23</td>\n",
       "      <td>Male</td>\n",
       "      <td>3064</td>\n",
       "      <td>1356333</td>\n",
       "      <td>3841</td>\n",
       "      <td>1085515</td>\n",
       "      <td>474</td>\n",
       "      <td>112435</td>\n",
       "    </tr>\n",
       "    <tr>\n",
       "      <th>516</th>\n",
       "      <td>517</td>\n",
       "      <td>2021-05-24</td>\n",
       "      <td>Male</td>\n",
       "      <td>6257</td>\n",
       "      <td>1362590</td>\n",
       "      <td>7933</td>\n",
       "      <td>1093448</td>\n",
       "      <td>871</td>\n",
       "      <td>113306</td>\n",
       "    </tr>\n",
       "    <tr>\n",
       "      <th>517</th>\n",
       "      <td>518</td>\n",
       "      <td>2021-05-25</td>\n",
       "      <td>Male</td>\n",
       "      <td>4546</td>\n",
       "      <td>1367136</td>\n",
       "      <td>7182</td>\n",
       "      <td>1100630</td>\n",
       "      <td>572</td>\n",
       "      <td>113878</td>\n",
       "    </tr>\n",
       "    <tr>\n",
       "      <th>518</th>\n",
       "      <td>519</td>\n",
       "      <td>2021-05-26</td>\n",
       "      <td>Male</td>\n",
       "      <td>3965</td>\n",
       "      <td>1371101</td>\n",
       "      <td>4105</td>\n",
       "      <td>1104735</td>\n",
       "      <td>454</td>\n",
       "      <td>114332</td>\n",
       "    </tr>\n",
       "    <tr>\n",
       "      <th>519</th>\n",
       "      <td>520</td>\n",
       "      <td>2021-05-27</td>\n",
       "      <td>Male</td>\n",
       "      <td>1368</td>\n",
       "      <td>1372469</td>\n",
       "      <td>3219</td>\n",
       "      <td>1107954</td>\n",
       "      <td>238</td>\n",
       "      <td>114570</td>\n",
       "    </tr>\n",
       "  </tbody>\n",
       "</table>\n",
       "<p>520 rows × 9 columns</p>\n",
       "</div>"
      ],
      "text/plain": [
       "      ID        DATE Gender  FirstDoseDaily  FirstDoseCumulative  \\\n",
       "0      1  2021-04-13  Other           84295                84295   \n",
       "1      2  2021-04-14  Other             557                84852   \n",
       "2      3  2021-04-15  Other             623                85475   \n",
       "3      4  2021-04-16  Other             782                86257   \n",
       "4      5  2021-04-17  Other            1136                87393   \n",
       "..   ...         ...    ...             ...                  ...   \n",
       "515  516  2021-05-23   Male            3064              1356333   \n",
       "516  517  2021-05-24   Male            6257              1362590   \n",
       "517  518  2021-05-25   Male            4546              1367136   \n",
       "518  519  2021-05-26   Male            3965              1371101   \n",
       "519  520  2021-05-27   Male            1368              1372469   \n",
       "\n",
       "     SecondDoseDaily  SecondDoseCumulative  SingleDoseDaily  \\\n",
       "0              54201                 54201             2952   \n",
       "1                 11                 54212                1   \n",
       "2                823                 55035               19   \n",
       "3               1016                 56051                8   \n",
       "4               1177                 57228                6   \n",
       "..               ...                   ...              ...   \n",
       "515             3841               1085515              474   \n",
       "516             7933               1093448              871   \n",
       "517             7182               1100630              572   \n",
       "518             4105               1104735              454   \n",
       "519             3219               1107954              238   \n",
       "\n",
       "     SingleDoseCumulative  \n",
       "0                    2952  \n",
       "1                    2953  \n",
       "2                    2972  \n",
       "3                    2980  \n",
       "4                    2986  \n",
       "..                    ...  \n",
       "515                112435  \n",
       "516                113306  \n",
       "517                113878  \n",
       "518                114332  \n",
       "519                114570  \n",
       "\n",
       "[520 rows x 9 columns]"
      ]
     },
     "execution_count": 4,
     "metadata": {},
     "output_type": "execute_result"
    }
   ],
   "source": [
    "df"
   ]
  },
  {
   "cell_type": "code",
   "execution_count": 5,
   "metadata": {},
   "outputs": [],
   "source": [
    "df['DATE'] = df['DATE'].astype(str)"
   ]
  },
  {
   "cell_type": "code",
   "execution_count": 6,
   "metadata": {},
   "outputs": [],
   "source": [
    "latest_date = df.iloc[-1]['DATE']"
   ]
  },
  {
   "cell_type": "code",
   "execution_count": 7,
   "metadata": {},
   "outputs": [
    {
     "data": {
      "text/plain": [
       "'2021-05-27'"
      ]
     },
     "execution_count": 7,
     "metadata": {},
     "output_type": "execute_result"
    }
   ],
   "source": [
    "latest_date "
   ]
  },
  {
   "cell_type": "code",
   "execution_count": 8,
   "metadata": {},
   "outputs": [],
   "source": [
    "last_date = df[df['DATE'] == latest_date]"
   ]
  },
  {
   "cell_type": "code",
   "execution_count": 9,
   "metadata": {},
   "outputs": [
    {
     "data": {
      "text/html": [
       "<div>\n",
       "<style scoped>\n",
       "    .dataframe tbody tr th:only-of-type {\n",
       "        vertical-align: middle;\n",
       "    }\n",
       "\n",
       "    .dataframe tbody tr th {\n",
       "        vertical-align: top;\n",
       "    }\n",
       "\n",
       "    .dataframe thead th {\n",
       "        text-align: right;\n",
       "    }\n",
       "</style>\n",
       "<table border=\"1\" class=\"dataframe\">\n",
       "  <thead>\n",
       "    <tr style=\"text-align: right;\">\n",
       "      <th></th>\n",
       "      <th>ID</th>\n",
       "      <th>DATE</th>\n",
       "      <th>Gender</th>\n",
       "      <th>FirstDoseDaily</th>\n",
       "      <th>FirstDoseCumulative</th>\n",
       "      <th>SecondDoseDaily</th>\n",
       "      <th>SecondDoseCumulative</th>\n",
       "      <th>SingleDoseDaily</th>\n",
       "      <th>SingleDoseCumulative</th>\n",
       "    </tr>\n",
       "  </thead>\n",
       "  <tbody>\n",
       "    <tr>\n",
       "      <th>32</th>\n",
       "      <td>33</td>\n",
       "      <td>2021-05-27</td>\n",
       "      <td>Other</td>\n",
       "      <td>425</td>\n",
       "      <td>106624</td>\n",
       "      <td>674</td>\n",
       "      <td>90953</td>\n",
       "      <td>1</td>\n",
       "      <td>3106</td>\n",
       "    </tr>\n",
       "    <tr>\n",
       "      <th>261</th>\n",
       "      <td>262</td>\n",
       "      <td>2021-05-27</td>\n",
       "      <td>Other</td>\n",
       "      <td>29</td>\n",
       "      <td>23195</td>\n",
       "      <td>31</td>\n",
       "      <td>20298</td>\n",
       "      <td>6</td>\n",
       "      <td>2044</td>\n",
       "    </tr>\n",
       "    <tr>\n",
       "      <th>354</th>\n",
       "      <td>355</td>\n",
       "      <td>2021-05-27</td>\n",
       "      <td>Female</td>\n",
       "      <td>1544</td>\n",
       "      <td>1684438</td>\n",
       "      <td>3043</td>\n",
       "      <td>1403227</td>\n",
       "      <td>155</td>\n",
       "      <td>111875</td>\n",
       "    </tr>\n",
       "    <tr>\n",
       "      <th>519</th>\n",
       "      <td>520</td>\n",
       "      <td>2021-05-27</td>\n",
       "      <td>Male</td>\n",
       "      <td>1368</td>\n",
       "      <td>1372469</td>\n",
       "      <td>3219</td>\n",
       "      <td>1107954</td>\n",
       "      <td>238</td>\n",
       "      <td>114570</td>\n",
       "    </tr>\n",
       "  </tbody>\n",
       "</table>\n",
       "</div>"
      ],
      "text/plain": [
       "      ID        DATE  Gender  FirstDoseDaily  FirstDoseCumulative  \\\n",
       "32    33  2021-05-27   Other             425               106624   \n",
       "261  262  2021-05-27   Other              29                23195   \n",
       "354  355  2021-05-27  Female            1544              1684438   \n",
       "519  520  2021-05-27    Male            1368              1372469   \n",
       "\n",
       "     SecondDoseDaily  SecondDoseCumulative  SingleDoseDaily  \\\n",
       "32               674                 90953                1   \n",
       "261               31                 20298                6   \n",
       "354             3043               1403227              155   \n",
       "519             3219               1107954              238   \n",
       "\n",
       "     SingleDoseCumulative  \n",
       "32                   3106  \n",
       "261                  2044  \n",
       "354                111875  \n",
       "519                114570  "
      ]
     },
     "execution_count": 9,
     "metadata": {},
     "output_type": "execute_result"
    }
   ],
   "source": [
    "last_date"
   ]
  },
  {
   "cell_type": "code",
   "execution_count": 10,
   "metadata": {},
   "outputs": [
    {
     "data": {
      "text/plain": [
       "Gender\n",
       "Female    1403227\n",
       "Male      1107954\n",
       "Other      111251\n",
       "Name: SecondDoseCumulative, dtype: int64"
      ]
     },
     "execution_count": 10,
     "metadata": {},
     "output_type": "execute_result"
    }
   ],
   "source": [
    "# gender_df = last_date['Gender'].to_list()\n",
    "# second_dose = last_date['SecondDoseCumulative'].to_list()\n",
    "gender_df = last_date[['Gender','SecondDoseCumulative']]\n",
    "# gender_df = gender_df['Gender'].value_counts()\n",
    "# gender_df = gender_df.set_index('Gender')\n",
    "gender_df = gender_df.groupby(['Gender'])['SecondDoseCumulative'].sum()\n",
    "gender_df"
   ]
  },
  {
   "cell_type": "code",
   "execution_count": 11,
   "metadata": {},
   "outputs": [
    {
     "data": {
      "text/plain": [
       "[{'Female': 1403227, 'Male': 1107954, 'Other': 111251}]"
      ]
     },
     "execution_count": 11,
     "metadata": {},
     "output_type": "execute_result"
    }
   ],
   "source": [
    "gender_data = []\n",
    "gender_dict = gender_df.to_dict()\n",
    "gender_data.append(gender_dict)\n",
    "gender_data"
   ]
  },
  {
   "cell_type": "code",
   "execution_count": null,
   "metadata": {},
   "outputs": [],
   "source": [
    "import json\n",
    "json.dumps()"
   ]
  },
  {
   "cell_type": "code",
   "execution_count": null,
   "metadata": {},
   "outputs": [],
   "source": []
  }
 ],
 "metadata": {
  "kernelspec": {
   "display_name": "Python 3",
   "language": "python",
   "name": "python3"
  },
  "language_info": {
   "codemirror_mode": {
    "name": "ipython",
    "version": 3
   },
   "file_extension": ".py",
   "mimetype": "text/x-python",
   "name": "python",
   "nbconvert_exporter": "python",
   "pygments_lexer": "ipython3",
   "version": "3.7.9"
  }
 },
 "nbformat": 4,
 "nbformat_minor": 4
}

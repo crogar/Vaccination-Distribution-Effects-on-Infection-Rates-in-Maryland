{
 "cells": [
  {
   "cell_type": "markdown",
   "metadata": {},
   "source": [
    "# JSON_covid19_gender - API Call"
   ]
  },
  {
   "cell_type": "code",
   "execution_count": 1,
   "metadata": {},
   "outputs": [],
   "source": [
    "import pandas as pd\n",
    "pd.options.mode.chained_assignment = None  # default='warn'\n",
    "import numpy as np\n",
    "from sqlalchemy import create_engine\n",
    "from sqlalchemy.sql import text\n",
    "from config import password, username"
   ]
  },
  {
   "cell_type": "code",
   "execution_count": 2,
   "metadata": {},
   "outputs": [
    {
     "name": "stdout",
     "output_type": "stream",
     "text": [
      "['cases', 'vaccinations', 'gender']\n"
     ]
    }
   ],
   "source": [
    "connection_string = f\"{username}:{password}@batyr.db.elephantsql.com/udxenurz\"\n",
    "engine = create_engine(f'postgres://{connection_string}')\n",
    "print(engine.table_names())"
   ]
  },
  {
   "cell_type": "code",
   "execution_count": 3,
   "metadata": {},
   "outputs": [],
   "source": [
    "df =pd.read_sql_query(\"SELECT * FROM gender\", con=engine)"
   ]
  },
  {
   "cell_type": "code",
   "execution_count": 4,
   "metadata": {
    "scrolled": false
   },
   "outputs": [
    {
     "data": {
      "text/html": [
       "<div>\n",
       "<style scoped>\n",
       "    .dataframe tbody tr th:only-of-type {\n",
       "        vertical-align: middle;\n",
       "    }\n",
       "\n",
       "    .dataframe tbody tr th {\n",
       "        vertical-align: top;\n",
       "    }\n",
       "\n",
       "    .dataframe thead th {\n",
       "        text-align: right;\n",
       "    }\n",
       "</style>\n",
       "<table border=\"1\" class=\"dataframe\">\n",
       "  <thead>\n",
       "    <tr style=\"text-align: right;\">\n",
       "      <th></th>\n",
       "      <th>ID</th>\n",
       "      <th>DATE</th>\n",
       "      <th>Gender</th>\n",
       "      <th>FirstDoseDaily</th>\n",
       "      <th>FirstDoseCumulative</th>\n",
       "      <th>SecondDoseDaily</th>\n",
       "      <th>SecondDoseCumulative</th>\n",
       "      <th>SingleDoseDaily</th>\n",
       "      <th>SingleDoseCumulative</th>\n",
       "    </tr>\n",
       "  </thead>\n",
       "  <tbody>\n",
       "    <tr>\n",
       "      <th>0</th>\n",
       "      <td>1</td>\n",
       "      <td>2020-12-14</td>\n",
       "      <td>Female</td>\n",
       "      <td>2</td>\n",
       "      <td>2</td>\n",
       "      <td>0</td>\n",
       "      <td>0</td>\n",
       "      <td>0</td>\n",
       "      <td>0</td>\n",
       "    </tr>\n",
       "    <tr>\n",
       "      <th>1</th>\n",
       "      <td>2</td>\n",
       "      <td>2020-12-15</td>\n",
       "      <td>Female</td>\n",
       "      <td>9</td>\n",
       "      <td>11</td>\n",
       "      <td>1</td>\n",
       "      <td>1</td>\n",
       "      <td>0</td>\n",
       "      <td>0</td>\n",
       "    </tr>\n",
       "    <tr>\n",
       "      <th>2</th>\n",
       "      <td>3</td>\n",
       "      <td>2020-12-16</td>\n",
       "      <td>Female</td>\n",
       "      <td>314</td>\n",
       "      <td>325</td>\n",
       "      <td>2</td>\n",
       "      <td>3</td>\n",
       "      <td>0</td>\n",
       "      <td>0</td>\n",
       "    </tr>\n",
       "    <tr>\n",
       "      <th>3</th>\n",
       "      <td>4</td>\n",
       "      <td>2020-12-17</td>\n",
       "      <td>Female</td>\n",
       "      <td>712</td>\n",
       "      <td>1037</td>\n",
       "      <td>0</td>\n",
       "      <td>3</td>\n",
       "      <td>0</td>\n",
       "      <td>0</td>\n",
       "    </tr>\n",
       "    <tr>\n",
       "      <th>4</th>\n",
       "      <td>5</td>\n",
       "      <td>2020-12-18</td>\n",
       "      <td>Female</td>\n",
       "      <td>1861</td>\n",
       "      <td>2898</td>\n",
       "      <td>2</td>\n",
       "      <td>5</td>\n",
       "      <td>0</td>\n",
       "      <td>0</td>\n",
       "    </tr>\n",
       "    <tr>\n",
       "      <th>...</th>\n",
       "      <td>...</td>\n",
       "      <td>...</td>\n",
       "      <td>...</td>\n",
       "      <td>...</td>\n",
       "      <td>...</td>\n",
       "      <td>...</td>\n",
       "      <td>...</td>\n",
       "      <td>...</td>\n",
       "      <td>...</td>\n",
       "    </tr>\n",
       "    <tr>\n",
       "      <th>526</th>\n",
       "      <td>527</td>\n",
       "      <td>2021-05-26</td>\n",
       "      <td>Other</td>\n",
       "      <td>41</td>\n",
       "      <td>23180</td>\n",
       "      <td>65</td>\n",
       "      <td>20291</td>\n",
       "      <td>12</td>\n",
       "      <td>2043</td>\n",
       "    </tr>\n",
       "    <tr>\n",
       "      <th>527</th>\n",
       "      <td>528</td>\n",
       "      <td>2021-05-27</td>\n",
       "      <td>Other</td>\n",
       "      <td>52</td>\n",
       "      <td>23232</td>\n",
       "      <td>41</td>\n",
       "      <td>20332</td>\n",
       "      <td>8</td>\n",
       "      <td>2051</td>\n",
       "    </tr>\n",
       "    <tr>\n",
       "      <th>528</th>\n",
       "      <td>529</td>\n",
       "      <td>2021-05-28</td>\n",
       "      <td>Other</td>\n",
       "      <td>34</td>\n",
       "      <td>23266</td>\n",
       "      <td>111</td>\n",
       "      <td>20443</td>\n",
       "      <td>6</td>\n",
       "      <td>2057</td>\n",
       "    </tr>\n",
       "    <tr>\n",
       "      <th>529</th>\n",
       "      <td>530</td>\n",
       "      <td>2021-05-29</td>\n",
       "      <td>Other</td>\n",
       "      <td>13</td>\n",
       "      <td>23279</td>\n",
       "      <td>66</td>\n",
       "      <td>20509</td>\n",
       "      <td>1</td>\n",
       "      <td>2058</td>\n",
       "    </tr>\n",
       "    <tr>\n",
       "      <th>530</th>\n",
       "      <td>531</td>\n",
       "      <td>2021-05-30</td>\n",
       "      <td>Other</td>\n",
       "      <td>2</td>\n",
       "      <td>23281</td>\n",
       "      <td>27</td>\n",
       "      <td>20536</td>\n",
       "      <td>2</td>\n",
       "      <td>2060</td>\n",
       "    </tr>\n",
       "  </tbody>\n",
       "</table>\n",
       "<p>531 rows × 9 columns</p>\n",
       "</div>"
      ],
      "text/plain": [
       "      ID        DATE  Gender  FirstDoseDaily  FirstDoseCumulative  \\\n",
       "0      1  2020-12-14  Female               2                    2   \n",
       "1      2  2020-12-15  Female               9                   11   \n",
       "2      3  2020-12-16  Female             314                  325   \n",
       "3      4  2020-12-17  Female             712                 1037   \n",
       "4      5  2020-12-18  Female            1861                 2898   \n",
       "..   ...         ...     ...             ...                  ...   \n",
       "526  527  2021-05-26   Other              41                23180   \n",
       "527  528  2021-05-27   Other              52                23232   \n",
       "528  529  2021-05-28   Other              34                23266   \n",
       "529  530  2021-05-29   Other              13                23279   \n",
       "530  531  2021-05-30   Other               2                23281   \n",
       "\n",
       "     SecondDoseDaily  SecondDoseCumulative  SingleDoseDaily  \\\n",
       "0                  0                     0                0   \n",
       "1                  1                     1                0   \n",
       "2                  2                     3                0   \n",
       "3                  0                     3                0   \n",
       "4                  2                     5                0   \n",
       "..               ...                   ...              ...   \n",
       "526               65                 20291               12   \n",
       "527               41                 20332                8   \n",
       "528              111                 20443                6   \n",
       "529               66                 20509                1   \n",
       "530               27                 20536                2   \n",
       "\n",
       "     SingleDoseCumulative  \n",
       "0                       0  \n",
       "1                       0  \n",
       "2                       0  \n",
       "3                       0  \n",
       "4                       0  \n",
       "..                    ...  \n",
       "526                  2043  \n",
       "527                  2051  \n",
       "528                  2057  \n",
       "529                  2058  \n",
       "530                  2060  \n",
       "\n",
       "[531 rows x 9 columns]"
      ]
     },
     "execution_count": 4,
     "metadata": {},
     "output_type": "execute_result"
    }
   ],
   "source": [
    "df"
   ]
  },
  {
   "cell_type": "code",
   "execution_count": 5,
   "metadata": {},
   "outputs": [],
   "source": [
    "df['DATE'] = df['DATE'].astype(str)"
   ]
  },
  {
   "cell_type": "code",
   "execution_count": 6,
   "metadata": {},
   "outputs": [],
   "source": [
    "latest_date = df.iloc[-1]['DATE']"
   ]
  },
  {
   "cell_type": "code",
   "execution_count": 7,
   "metadata": {},
   "outputs": [
    {
     "data": {
      "text/plain": [
       "'2021-05-30'"
      ]
     },
     "execution_count": 7,
     "metadata": {},
     "output_type": "execute_result"
    }
   ],
   "source": [
    "latest_date "
   ]
  },
  {
   "cell_type": "code",
   "execution_count": 8,
   "metadata": {},
   "outputs": [],
   "source": [
    "last_date = df[df['DATE'] == latest_date]"
   ]
  },
  {
   "cell_type": "code",
   "execution_count": 9,
   "metadata": {},
   "outputs": [
    {
     "data": {
      "text/html": [
       "<div>\n",
       "<style scoped>\n",
       "    .dataframe tbody tr th:only-of-type {\n",
       "        vertical-align: middle;\n",
       "    }\n",
       "\n",
       "    .dataframe tbody tr th {\n",
       "        vertical-align: top;\n",
       "    }\n",
       "\n",
       "    .dataframe thead th {\n",
       "        text-align: right;\n",
       "    }\n",
       "</style>\n",
       "<table border=\"1\" class=\"dataframe\">\n",
       "  <thead>\n",
       "    <tr style=\"text-align: right;\">\n",
       "      <th></th>\n",
       "      <th>ID</th>\n",
       "      <th>DATE</th>\n",
       "      <th>Gender</th>\n",
       "      <th>FirstDoseDaily</th>\n",
       "      <th>FirstDoseCumulative</th>\n",
       "      <th>SecondDoseDaily</th>\n",
       "      <th>SecondDoseCumulative</th>\n",
       "      <th>SingleDoseDaily</th>\n",
       "      <th>SingleDoseCumulative</th>\n",
       "    </tr>\n",
       "  </thead>\n",
       "  <tbody>\n",
       "    <tr>\n",
       "      <th>236</th>\n",
       "      <td>237</td>\n",
       "      <td>2021-05-30</td>\n",
       "      <td>Female</td>\n",
       "      <td>876</td>\n",
       "      <td>1703368</td>\n",
       "      <td>1652</td>\n",
       "      <td>1428620</td>\n",
       "      <td>97</td>\n",
       "      <td>113284</td>\n",
       "    </tr>\n",
       "    <tr>\n",
       "      <th>475</th>\n",
       "      <td>476</td>\n",
       "      <td>2021-05-30</td>\n",
       "      <td>Male</td>\n",
       "      <td>911</td>\n",
       "      <td>1390255</td>\n",
       "      <td>1901</td>\n",
       "      <td>1133844</td>\n",
       "      <td>231</td>\n",
       "      <td>117139</td>\n",
       "    </tr>\n",
       "    <tr>\n",
       "      <th>530</th>\n",
       "      <td>531</td>\n",
       "      <td>2021-05-30</td>\n",
       "      <td>Other</td>\n",
       "      <td>2</td>\n",
       "      <td>23281</td>\n",
       "      <td>27</td>\n",
       "      <td>20536</td>\n",
       "      <td>2</td>\n",
       "      <td>2060</td>\n",
       "    </tr>\n",
       "  </tbody>\n",
       "</table>\n",
       "</div>"
      ],
      "text/plain": [
       "      ID        DATE  Gender  FirstDoseDaily  FirstDoseCumulative  \\\n",
       "236  237  2021-05-30  Female             876              1703368   \n",
       "475  476  2021-05-30    Male             911              1390255   \n",
       "530  531  2021-05-30   Other               2                23281   \n",
       "\n",
       "     SecondDoseDaily  SecondDoseCumulative  SingleDoseDaily  \\\n",
       "236             1652               1428620               97   \n",
       "475             1901               1133844              231   \n",
       "530               27                 20536                2   \n",
       "\n",
       "     SingleDoseCumulative  \n",
       "236                113284  \n",
       "475                117139  \n",
       "530                  2060  "
      ]
     },
     "execution_count": 9,
     "metadata": {},
     "output_type": "execute_result"
    }
   ],
   "source": [
    "last_date"
   ]
  },
  {
   "cell_type": "code",
   "execution_count": 10,
   "metadata": {},
   "outputs": [
    {
     "data": {
      "text/plain": [
       "Gender\n",
       "Female    1428620\n",
       "Male      1133844\n",
       "Other       20536\n",
       "Name: SecondDoseCumulative, dtype: int64"
      ]
     },
     "execution_count": 10,
     "metadata": {},
     "output_type": "execute_result"
    }
   ],
   "source": [
    "gender_df = last_date[['Gender','SecondDoseCumulative']]\n",
    "gender_df = gender_df.groupby(['Gender'])['SecondDoseCumulative'].sum()\n",
    "gender_df"
   ]
  },
  {
   "cell_type": "code",
   "execution_count": 11,
   "metadata": {},
   "outputs": [
    {
     "data": {
      "text/plain": [
       "[{'Female': 1428620, 'Male': 1133844, 'Other': 20536}]"
      ]
     },
     "execution_count": 11,
     "metadata": {},
     "output_type": "execute_result"
    }
   ],
   "source": [
    "gender_data = []\n",
    "gender_dict = gender_df.to_dict()\n",
    "gender_data.append(gender_dict)\n",
    "gender_data"
   ]
  },
  {
   "cell_type": "code",
   "execution_count": 12,
   "metadata": {},
   "outputs": [
    {
     "data": {
      "text/plain": [
       "'[{\"Female\": 1428620, \"Male\": 1133844, \"Other\": 20536}]'"
      ]
     },
     "execution_count": 12,
     "metadata": {},
     "output_type": "execute_result"
    }
   ],
   "source": [
    "import json\n",
    "json.dumps(gender_data)"
   ]
  },
  {
   "cell_type": "code",
   "execution_count": null,
   "metadata": {},
   "outputs": [],
   "source": []
  }
 ],
 "metadata": {
  "kernelspec": {
   "display_name": "Python 3",
   "language": "python",
   "name": "python3"
  },
  "language_info": {
   "codemirror_mode": {
    "name": "ipython",
    "version": 3
   },
   "file_extension": ".py",
   "mimetype": "text/x-python",
   "name": "python",
   "nbconvert_exporter": "python",
   "pygments_lexer": "ipython3",
   "version": "3.8.5"
  }
 },
 "nbformat": 4,
 "nbformat_minor": 4
}
